{
 "cells": [
  {
   "cell_type": "code",
   "execution_count": 35,
   "metadata": {
    "scrolled": true
   },
   "outputs": [
    {
     "data": {
      "image/png": "iVBORw0KGgoAAAANSUhEUgAAAXQAAAD8CAYAAABn919SAAAABHNCSVQICAgIfAhkiAAAAAlwSFlzAAALEgAACxIB0t1+/AAAADl0RVh0U29mdHdhcmUAbWF0cGxvdGxpYiB2ZXJzaW9uIDIuMi4yLCBodHRwOi8vbWF0cGxvdGxpYi5vcmcvhp/UCwAADn9JREFUeJzt3X+I5Pddx/HXa3spsibqldseR8zuaLkWjwqXMoRIRVNSS7w/khaheE5rKsEtpZFWgxC6fzQoBxVJCkKpTsiRKGO00moPmlrDkXJUmtg9m6aXRE2su+ud19zWaBsY/JHk7R/f73m7x87O7Pz4zsx7ng9YZr6f+U6+bz6z97pPvt/3fM8RIQDA9JsbdwEAgOEg0AEgCQIdAJIg0AEgCQIdAJIg0AEgCQIdAJIg0AEgCQIdAJLYV+XBDhw4ELVarcpDAsDUO3v27PciYqHbfpUGeq1W0+rqapWHBICpZ3u9l/045QIASRDoAJAEgQ4ASRDoAJAEgQ4ASXQNdNs32H7C9nO2n7X9sXL8PtsXbD9d/hwbfbkAgE56WaG/KumeiDgi6WZJH7V9pHzt0xFxtPx5bGRVAsAUabWkWk2amyseW61qjtu1Dz0iLkq6WD5/xfbzkq4fdWEAMI1aLWl5WWq3i+319WJbkhqN0R57T+fQbdck3SjpqXLobtvP2D5pe/+QawOAqbOyciXML2u3i/FR6znQbV8r6fOSPh4RP5D0WUlvkXRUxQr+/g7vW7a9ant1c3NzCCUDwOTa2Njb+DD1FOi2r1ER5q2I+IIkRcRLEfFaRLwu6UFJN+303ohoRkQ9IuoLC11vRQAAU21xcW/jw9RLl4slPSTp+Yh4YMv4oS27vU/SueGXBwDT5cQJaX5++9j8fDE+ar3cnOudkj4o6du2ny7HPiHpuO2jkkLSmqQPj6RCAJgily98rqwUp1kWF4swH/UFUUlyRIz+KKV6vR7cbREA9sb22Yiod9uPb4oCQBIEOgAkQaADQBIEOgAkQaADQBIEOgAkQaADQBIEOgAkQaADQBIEOgAkQaADQBIEOgAkQaADQBIEOgAkQaADQBIEOgAkQaADQBIEOgAkQaADQBIEOgAkQaADQBIEOgAkQaADQBIEOgAkQaADQBIEOgAkQaADQBIEOgAkQaADQBIEOgAkQaADQBIEOgAk0TXQbd9g+wnbz9l+1vbHyvE32X7c9gvl4/7RlwsA6KSXFfqrku6JiCOSbpb0UdtHJN0r6XREHJZ0utwGAIxJ10CPiIsR8ffl81ckPS/pekl3SHqk3O0RSe8dVZEAgO72dA7ddk3SjZKeknQwIi6WL31X0sGhVgYA2JOeA932tZI+L+njEfGDra9FREiKDu9btr1qe3Vzc3OgYgEAnfUU6LavURHmrYj4Qjn8ku1D5euHJF3a6b0R0YyIekTUFxYWhlEzAGAHvXS5WNJDkp6PiAe2vHRK0p3l8zslfXH45QEAerWvh33eKemDkr5t++ly7BOSPiXpc7bvkrQu6f2jKREA0IuugR4RX5PkDi/fOtxyAAD94puiAJAEgQ4ASRDoAJAEgQ4ASRDoAJAEgQ4ASRDoAJAEgQ4ASRDoAJAEgQ4ASRDoAJAEgQ4ASRDoAJAEgQ4ASRDoAJAEgQ4ASRDoAJAEgQ4ASRDoAJAEgQ4ASRDoAJAEgQ4ASRDoAJAEgQ4ASRDoAIai1ZJqNWlurnhstcZd0ezZN+4CAEy/VktaXpba7WJ7fb3YlqRGY3x1zRpW6AAGtrJyJcwva7eLcVSHQAcwsI2NvY1jNAh0AANbXNzbOEaDQAcwsBMnpPn57WPz88U4qkOgAxhYoyE1m9LSkmQXj80mF0SrRpcLgKFoNAjwceu6Qrd90vYl2+e2jN1n+4Ltp8ufY6MtEwDQTS+nXB6WdNsO45+OiKPlz2PDLQsAsFddAz0izkh6uYJaAAADGOSi6N22nylPyewfWkUAgL70G+iflfQWSUclXZR0f6cdbS/bXrW9urm52efhAADd9BXoEfFSRLwWEa9LelDSTbvs24yIekTUFxYW+q0TANBFX4Fu+9CWzfdJOtdpXwBANbr2odt+VNItkg7YPi/pk5JusX1UUkhak/ThEdYIAOhB10CPiOM7DD80gloAAAPgq/8AkASBDgBJEOgAkASBDgBJEOgAkASBDgBJEOgAkASBDgBJEOgAkASBDgBJEOgAkASBDgBJEOgAkASBDgBJEOgAkASBDgBJEOgAkASBDgBJEOgAkASBDgBJEOgAkASBDgBJEOgAkASBDgBJEOgAkASBDgBJEOgAkASBDgBJEOgAkASBDgBJEOgAkASBDgBJdA102ydtX7J9bsvYm2w/bvuF8nH/aMsEAHTTywr9YUm3XTV2r6TTEXFY0ulyGwAwRl0DPSLOSHr5quE7JD1SPn9E0nuHXBcAYI/6PYd+MCIuls+/K+ngkOoBAPRp4IuiERGSotPrtpdtr9pe3dzcHPRwAIAO+g30l2wfkqTy8VKnHSOiGRH1iKgvLCz0eTgAQDf9BvopSXeWz++U9MXhlAMA6FcvbYuPSvq6pLfZPm/7LkmfkvQLtl+Q9O5yGwAwRvu67RARxzu8dOuQawEADIBvigIDarWkWk2amyseW61xV4RZ1XWFDqCzVktaXpba7WJ7fb3YlqRGY3x1YTaxQgcGsLJyJcwva7eLcaBqBDowgI2NvY0Do0SgAwNYXNzbODBKBDowgBMnpPn57WPz88U4UDUCHRhAoyE1m9LSkmQXj80mF0QxHnS5AANqNAhwTAZW6ACQBIEOAEkQ6ACQBIEOAEkQ6ACQBIEOAEkQ6ACQBIEOAEkQ6ACQBIEOAEkQ6ACQBIEOAEkQ6ACQBIEOAEkQ6ACQBIEOAEkQ6ACQBIEOAEkQ6ACQBIEOAEkQ6ACQBIEOAEkQ6ACQBIEOAEnsG+TNttckvSLpNUmvRkR9GEUBAPZuGCv0d0XEUcIcwERotaRaTZqbKx5brXFXVJmBVugAMFFaLWl5WWq3i+319WJbkhqN8dVVkUFX6CHpb2yftb08jIIAoG8rK1fC/LJ2uxifAYOu0H82Ii7YfrOkx23/Q0Sc2bpDGfTLkrS4uDjg4QBgFxsbextPZqAVekRcKB8vSfpLSTftsE8zIuoRUV9YWBjkcACwu06LxhlZTPYd6LZ/2PZ1l59Leo+kc8MqDAD27MQJaX5++9j8fDE+AwZZoR+U9DXb35L0d5K+FBF/PZyyAKAPjYbUbEpLS5JdPDabM3FBVJIcEZUdrF6vx+rqamXHA4AMbJ/tpTWcb4qibzPc7jt5+DAg+tDRpxlv950sfBgoccoFfanVity42tKStLZWdTUzjg8jPU65YKRmvN13svBhoESgoy8z3u47WfgwUCLQ0ZcZb/edLHwYKBHo6MuMt/tOFj4MlLgoCgATjouimA30XwP/jz50TC/6r4FtWKFjes34va+BqxHomF70XwPbEOiYXvRfA9sQ6Jhe9F8D2xDomF70XwPb0OWC6dZoEOBAiRX6tKL/GsBVWKFPI/qvAeyAFfo0ov8awA4I9GlE/zWAHRDo04j+awA7INCnEf3XAHZAoE8j+q8B7IAul2lF/zWAq0zXCn0Ceq8noAQA2NH0rNAnoPd6AkoAgI6m55+gq9WKBL3a0pK0tjZIWdNUAoAZlO+foJuA3usJKAEAOpqeQJ+A3usJKAEAOpqeQJ+A3usJKAEAOpqeQJ+A3usJKAEAOpqei6IAMKMquShq+zbb/2j7Rdv3DvLfAgAMpu9At/0GSZ+R9IuSjkg6bvvIsAoDAOzNICv0myS9GBHfiYj/kfRnku4YTlkAgL0aJNCvl/SvW7bPl2MAgDEYeZeL7WXbq7ZXNzc3R304AJhZgwT6BUk3bNn+8XJsm4hoRkQ9IuoLCwsDHA4AsJu+2xZt75P0T5JuVRHk35D0KxHx7C7v2ZS0w91QptIBSd8bdxETgrkoMA8F5uGKYc3FUkR0XRH3fbfFiHjV9t2SviLpDZJO7hbm5XvSLNFtr/bSFzoLmIsC81BgHq6oei4Gun1uRDwm6bEh1QIAGMD0fPUfALArAr1/zXEXMEGYiwLzUGAerqh0Liq9lwsAYHRYoQNAEgR6F91uQGb7t2w/Z/sZ26dtL42jzlHr9UZstn/JdthO2+XQy1zYfn/5e/Gs7T+tusYq9PBnY9H2E7a/Wf75ODaOOkfN9knbl2yf6/C6bf9BOU/P2H7HyIqJCH46/Khox/xnST8p6Y2SviXpyFX7vEvSfPn8I5L+fNx1j2Meyv2uk3RG0pOS6uOue4y/E4clfVPS/nL7zeOue0zz0JT0kfL5EUlr4657RHPxc5LeIelch9ePSfqyJEu6WdJTo6qFFfruut6ALCKeiIh2ufmkim/MZtPrjdh+V9LvSfqvKourWC9z8euSPhMR/yFJEXGp4hqr0Ms8hKQfKZ//qKR/q7C+ykTEGUkv77LLHZL+OApPSvox24dGUQuBvru93oDsLhV/E2fTdR7K/428ISK+VGVhY9DL78RbJb3V9t/aftL2bZVVV51e5uE+SR+wfV7F91V+o5rSJk5lNzIc6ItFuML2ByTVJf38uGupmu05SQ9I+tCYS5kU+1ScdrlFxf+xnbH90xHxn2OtqnrHJT0cEffb/hlJf2L77RHx+rgLy4oV+u56ugGZ7XdLWpF0e0T8d0W1VanbPFwn6e2Svmp7TcV5wlNJL4z28jtxXtKpiPjfiPgXFfc8OlxRfVXpZR7ukvQ5SYqIr0v6IRX3Npk1PeXIMBDou/uGpMO2f8L2GyX9sqRTW3ewfaOkP1IR5hnPlUpd5iEivh8RByKiFhE1FdcSbo+IjP+AbNffCUl/pWJ1LtsHVJyC+U6VRVagl3nYUHHzPtn+KRWBPov30D4l6VfLbpebJX0/Ii6O4kCcctlFdLgBme3fkbQaEack/b6kayX9hW1J2oiI28dW9Aj0OA8zoce5+Iqk99h+TtJrkn47Iv59fFUPX4/zcI+kB23/pooLpB+Ksu0jE9uPqvgL/EB5veCTkq6RpIj4QxXXD45JelFSW9KvjayWhPMLADOJUy4AkASBDgBJEOgAkASBDgBJEOgAkASBDgBJEOgAkASBDgBJ/B8t8iD3XWHmowAAAABJRU5ErkJggg==\n",
      "text/plain": [
       "<Figure size 432x288 with 1 Axes>"
      ]
     },
     "metadata": {},
     "output_type": "display_data"
    }
   ],
   "source": [
    "import matplotlib.pyplot as plt\n",
    "import numpy as np\n",
    "import math\n",
    "x1 = [0.1, 0.3, 0.5, 0.7, 0.9]\n",
    "x2 = [0.2, 0.4, 0.6, 0.8, 1]\n",
    "y1 = [1, 2, 3, 4, 5]\n",
    "y2 = [1, 4, 9, 16, 25]\n",
    "plt.scatter(x1, y1, c = 'red')\n",
    "plt.scatter(x2, y2, c = 'blue')\n",
    "plt.show()"
   ]
  },
  {
   "cell_type": "code",
   "execution_count": 36,
   "metadata": {},
   "outputs": [
    {
     "data": {
      "text/plain": [
       "(0.6718130817744822, 0.5811776300895183)"
      ]
     },
     "execution_count": 36,
     "metadata": {},
     "output_type": "execute_result"
    }
   ],
   "source": [
    "np.random.random(),np.random.uniform(low=0.0, high=1.0)\n"
   ]
  },
  {
   "cell_type": "code",
   "execution_count": 37,
   "metadata": {},
   "outputs": [],
   "source": [
    "def points_aleatoires(n):\n",
    "    x1=[]\n",
    "    for i in range(0,n):\n",
    "        x1.append(np.random.random())\n",
    "    y1=[]\n",
    "    for i in range(0,n):\n",
    "        y1.append(np.random.uniform())\n",
    "    return x1,y1;\n",
    "\n",
    "\n"
   ]
  },
  {
   "cell_type": "code",
   "execution_count": 38,
   "metadata": {},
   "outputs": [],
   "source": [
    "X1,Y1=points_aleatoires(10)"
   ]
  },
  {
   "cell_type": "code",
   "execution_count": 39,
   "metadata": {},
   "outputs": [
    {
     "data": {
      "text/plain": [
       "<matplotlib.collections.PathCollection at 0x7efd948f3668>"
      ]
     },
     "execution_count": 39,
     "metadata": {},
     "output_type": "execute_result"
    },
    {
     "data": {
      "image/png": "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\n",
      "text/plain": [
       "<Figure size 432x288 with 1 Axes>"
      ]
     },
     "metadata": {},
     "output_type": "display_data"
    }
   ],
   "source": [
    "plt.scatter(X1, Y1, c = 'red')\n"
   ]
  },
  {
   "cell_type": "code",
   "execution_count": 1,
   "metadata": {},
   "outputs": [],
   "source": [
    "def positionsuivante(X1,Y1,delta):\n",
    "    X2=[]\n",
    "    Y2=[]\n",
    "    for x in X1:\n",
    "        X2.append(x+delta*(np.random.random()-0.5))\n",
    "    for y in Y1:\n",
    "        Y2.append(y+delta*(np.random.random()-0.5))\n",
    "    return X2,Y2"
   ]
  },
  {
   "cell_type": "code",
   "execution_count": 2,
   "metadata": {
    "scrolled": true
   },
   "outputs": [
    {
     "ename": "NameError",
     "evalue": "name 'X1' is not defined",
     "output_type": "error",
     "traceback": [
      "\u001b[0;31m---------------------------------------------------------------------------\u001b[0m",
      "\u001b[0;31mNameError\u001b[0m                                 Traceback (most recent call last)",
      "\u001b[0;32m<ipython-input-2-40fa9e9bb732>\u001b[0m in \u001b[0;36m<module>\u001b[0;34m()\u001b[0m\n\u001b[1;32m      1\u001b[0m \u001b[0mdelta\u001b[0m\u001b[0;34m=\u001b[0m\u001b[0;36m0.1\u001b[0m\u001b[0;34m\u001b[0m\u001b[0m\n\u001b[0;32m----> 2\u001b[0;31m \u001b[0mX2\u001b[0m\u001b[0;34m,\u001b[0m\u001b[0mY2\u001b[0m\u001b[0;34m=\u001b[0m\u001b[0mpositionsuivante\u001b[0m\u001b[0;34m(\u001b[0m\u001b[0mX1\u001b[0m\u001b[0;34m,\u001b[0m\u001b[0mY1\u001b[0m\u001b[0;34m,\u001b[0m\u001b[0mdelta\u001b[0m\u001b[0;34m)\u001b[0m\u001b[0;34m\u001b[0m\u001b[0m\n\u001b[0m",
      "\u001b[0;31mNameError\u001b[0m: name 'X1' is not defined"
     ]
    }
   ],
   "source": [
    "delta=0.1\n",
    "X2,Y2=positionsuivante(X1,Y1,delta)"
   ]
  },
  {
   "cell_type": "code",
   "execution_count": 3,
   "metadata": {},
   "outputs": [
    {
     "ename": "NameError",
     "evalue": "name 'plt' is not defined",
     "output_type": "error",
     "traceback": [
      "\u001b[0;31m---------------------------------------------------------------------------\u001b[0m",
      "\u001b[0;31mNameError\u001b[0m                                 Traceback (most recent call last)",
      "\u001b[0;32m<ipython-input-3-3e46059e6d55>\u001b[0m in \u001b[0;36m<module>\u001b[0;34m()\u001b[0m\n\u001b[0;32m----> 1\u001b[0;31m \u001b[0mplt\u001b[0m\u001b[0;34m.\u001b[0m\u001b[0mscatter\u001b[0m\u001b[0;34m(\u001b[0m\u001b[0mX2\u001b[0m\u001b[0;34m,\u001b[0m \u001b[0mY2\u001b[0m\u001b[0;34m,\u001b[0m \u001b[0mc\u001b[0m \u001b[0;34m=\u001b[0m \u001b[0;34m'red'\u001b[0m\u001b[0;34m)\u001b[0m\u001b[0;34m\u001b[0m\u001b[0m\n\u001b[0m",
      "\u001b[0;31mNameError\u001b[0m: name 'plt' is not defined"
     ]
    }
   ],
   "source": [
    "plt.scatter(X2, Y2, c = 'red')\n"
   ]
  },
  {
   "cell_type": "code",
   "execution_count": 49,
   "metadata": {},
   "outputs": [],
   "source": [
    "t=50\n",
    "X,Y=points_aleatoires(10)\n",
    "plt.scatter(X, Y, c = 'red')\n",
    "for i in range(t):\n",
    "    X,Y= positionsuivante(X,Y,delta)\n",
    "    plt.scatter(X, Y, c = 'red')\n",
    "    plt.savefig('plot_%d.png'%i)\n",
    "    plt.clf()   # Clear figure\n",
    "    plt.close()\n",
    "    "
   ]
  },
  {
   "cell_type": "code",
   "execution_count": null,
   "metadata": {},
   "outputs": [],
   "source": []
  },
  {
   "cell_type": "code",
   "execution_count": 45,
   "metadata": {},
   "outputs": [
    {
     "ename": "TypeError",
     "evalue": "unsupported operand type(s) for -: 'list' and 'list'",
     "output_type": "error",
     "traceback": [
      "\u001b[0;31m---------------------------------------------------------------------------\u001b[0m",
      "\u001b[0;31mTypeError\u001b[0m                                 Traceback (most recent call last)",
      "\u001b[0;32m<ipython-input-45-bc253ca36cf6>\u001b[0m in \u001b[0;36m<module>\u001b[0;34m()\u001b[0m\n\u001b[1;32m      7\u001b[0m     \u001b[0mX1\u001b[0m\u001b[0;34m,\u001b[0m\u001b[0mY1\u001b[0m\u001b[0;34m=\u001b[0m \u001b[0mpositionsuivante\u001b[0m\u001b[0;34m(\u001b[0m\u001b[0mX\u001b[0m\u001b[0;34m,\u001b[0m\u001b[0mY\u001b[0m\u001b[0;34m,\u001b[0m\u001b[0mdelta\u001b[0m\u001b[0;34m)\u001b[0m\u001b[0;34m\u001b[0m\u001b[0m\n\u001b[1;32m      8\u001b[0m     \u001b[0mplt\u001b[0m\u001b[0;34m.\u001b[0m\u001b[0mscatter\u001b[0m\u001b[0;34m(\u001b[0m\u001b[0mX1\u001b[0m\u001b[0;34m,\u001b[0m \u001b[0mY1\u001b[0m\u001b[0;34m,\u001b[0m \u001b[0mc\u001b[0m \u001b[0;34m=\u001b[0m \u001b[0;34m'red'\u001b[0m\u001b[0;34m)\u001b[0m\u001b[0;34m\u001b[0m\u001b[0m\n\u001b[0;32m----> 9\u001b[0;31m     \u001b[0;32mif\u001b[0m \u001b[0mmath\u001b[0m\u001b[0;34m.\u001b[0m\u001b[0msqrt\u001b[0m\u001b[0;34m(\u001b[0m\u001b[0;34m(\u001b[0m\u001b[0mX1\u001b[0m\u001b[0;34m-\u001b[0m\u001b[0mX\u001b[0m\u001b[0;34m)\u001b[0m\u001b[0;34m^\u001b[0m\u001b[0;36m2\u001b[0m\u001b[0;34m+\u001b[0m\u001b[0;34m(\u001b[0m\u001b[0mY1\u001b[0m\u001b[0;34m-\u001b[0m\u001b[0mY\u001b[0m\u001b[0;34m)\u001b[0m\u001b[0;34m^\u001b[0m\u001b[0;36m2\u001b[0m\u001b[0;34m)\u001b[0m \u001b[0;34m<\u001b[0m \u001b[0;36m0.1\u001b[0m\u001b[0;34m:\u001b[0m\u001b[0;34m\u001b[0m\u001b[0m\n\u001b[0m\u001b[1;32m     10\u001b[0m         \u001b[0mplt\u001b[0m\u001b[0;34m.\u001b[0m\u001b[0mscatter\u001b[0m\u001b[0;34m(\u001b[0m\u001b[0;34m(\u001b[0m\u001b[0mX1\u001b[0m\u001b[0;34m+\u001b[0m\u001b[0mX\u001b[0m\u001b[0;34m)\u001b[0m\u001b[0;34m/\u001b[0m\u001b[0;36m2\u001b[0m\u001b[0;34m,\u001b[0m \u001b[0;34m(\u001b[0m\u001b[0mY1\u001b[0m\u001b[0;34m+\u001b[0m\u001b[0mY\u001b[0m\u001b[0;34m)\u001b[0m\u001b[0;34m/\u001b[0m\u001b[0;36m2\u001b[0m\u001b[0;34m,\u001b[0m \u001b[0;34m'blue'\u001b[0m\u001b[0;34m)\u001b[0m\u001b[0;34m\u001b[0m\u001b[0m\n\u001b[1;32m     11\u001b[0m     \u001b[0mX\u001b[0m\u001b[0;34m=\u001b[0m\u001b[0mX1\u001b[0m\u001b[0;34m\u001b[0m\u001b[0m\n",
      "\u001b[0;31mTypeError\u001b[0m: unsupported operand type(s) for -: 'list' and 'list'"
     ]
    },
    {
     "data": {
      "image/png": "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\n",
      "text/plain": [
       "<Figure size 432x288 with 1 Axes>"
      ]
     },
     "metadata": {},
     "output_type": "display_data"
    }
   ],
   "source": [
    "t=10\n",
    "X,Y=points_aleatoires(10)\n",
    "x_vec=np.array(X)\n",
    "y_vec=np.array(Y)\n",
    "plt.scatter(X, Y, c = 'red')\n",
    "for i in range(t):\n",
    "    X1,Y1= positionsuivante(X,Y,delta)\n",
    "    plt.scatter(X1, Y1, c = 'red')\n",
    "    if math.sqrt((X1-X)^2+(Y1-Y)^2) < 0.1:\n",
    "        plt.scatter((X1+X)/2, (Y1+Y)/2, 'blue')\n",
    "    X=X1\n",
    "    Y=Y1"
   ]
  },
  {
   "cell_type": "code",
   "execution_count": null,
   "metadata": {},
   "outputs": [],
   "source": []
  },
  {
   "cell_type": "code",
   "execution_count": null,
   "metadata": {},
   "outputs": [],
   "source": []
  }
 ],
 "metadata": {
  "kernelspec": {
   "display_name": "Python 3",
   "language": "python",
   "name": "python3"
  },
  "language_info": {
   "codemirror_mode": {
    "name": "ipython",
    "version": 3
   },
   "file_extension": ".py",
   "mimetype": "text/x-python",
   "name": "python",
   "nbconvert_exporter": "python",
   "pygments_lexer": "ipython3",
   "version": "3.5.3"
  }
 },
 "nbformat": 4,
 "nbformat_minor": 2
}

 from tkinter import *
 import time
 
 Windows = Tk()
 
 i = 0
 
 while i < 10:
     photo = PhotoImage(file="load.gif", format="gif -index i")
     canvas = Canvas(Windows, width=350,height=200,bg='white')
     canvas.create_image(0,0,anchor='nw', image=photo)
     canvas.pack(side='top', fill='both', expand='yes')
     i = i + 1
 i = 0
 Windows.mainloop()
